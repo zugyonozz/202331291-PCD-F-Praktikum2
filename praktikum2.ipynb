{
 "cells": [
  {
   "cell_type": "markdown",
   "metadata": {},
   "source": [
    "## 202331291_Rafi Indra Pramudhito Zuhayr"
   ]
  },
  {
   "cell_type": "markdown",
   "metadata": {},
   "source": [
    "### Import library"
   ]
  },
  {
   "cell_type": "code",
   "execution_count": 1,
   "metadata": {},
   "outputs": [],
   "source": [
    "import cv2\n",
    "import numpy as np"
   ]
  },
  {
   "cell_type": "markdown",
   "metadata": {},
   "source": [
    "### Membaca Citra"
   ]
  },
  {
   "cell_type": "code",
   "execution_count": 3,
   "metadata": {},
   "outputs": [],
   "source": [
    "citra = cv2.imread(\"image.webp\")\n",
    "cv2.imshow(\"Original\", citra)\n",
    "cv2.waitKey(0)\n",
    "cv2.destroyAllWindows()\n"
   ]
  },
  {
   "cell_type": "markdown",
   "metadata": {},
   "source": [
    "### Dimensi Citra"
   ]
  },
  {
   "cell_type": "code",
   "execution_count": 4,
   "metadata": {},
   "outputs": [
    {
     "name": "stdout",
     "output_type": "stream",
     "text": [
      "(1067, 1600, 3)\n",
      "uint8\n"
     ]
    }
   ],
   "source": [
    "print(citra.shape)\n",
    "print(citra.dtype)"
   ]
  },
  {
   "cell_type": "code",
   "execution_count": 5,
   "metadata": {},
   "outputs": [
    {
     "name": "stdout",
     "output_type": "stream",
     "text": [
      "[[[216 225 205]\n",
      "  [216 225 205]\n",
      "  [216 225 205]\n",
      "  ...\n",
      "  [ 15  77  33]\n",
      "  [ 18  81  37]\n",
      "  [ 26  89  45]]\n",
      "\n",
      " [[213 222 203]\n",
      "  [213 222 203]\n",
      "  [213 222 203]\n",
      "  ...\n",
      "  [  0  60  16]\n",
      "  [  1  64  19]\n",
      "  [  9  72  27]]\n",
      "\n",
      " [[209 218 198]\n",
      "  [209 218 198]\n",
      "  [209 218 198]\n",
      "  ...\n",
      "  [  0  60  16]\n",
      "  [  1  64  19]\n",
      "  [  9  72  27]]\n",
      "\n",
      " ...\n",
      "\n",
      " [[191 203 187]\n",
      "  [191 203 187]\n",
      "  [191 203 187]\n",
      "  ...\n",
      "  [126 150 125]\n",
      "  [128 152 128]\n",
      "  [130 154 130]]\n",
      "\n",
      " [[191 203 187]\n",
      "  [191 203 187]\n",
      "  [191 203 187]\n",
      "  ...\n",
      "  [126 150 125]\n",
      "  [128 152 128]\n",
      "  [130 154 130]]\n",
      "\n",
      " [[192 204 188]\n",
      "  [192 204 188]\n",
      "  [192 204 188]\n",
      "  ...\n",
      "  [128 152 128]\n",
      "  [130 154 130]\n",
      "  [133 157 132]]]\n"
     ]
    }
   ],
   "source": [
    "print(citra)"
   ]
  },
  {
   "cell_type": "markdown",
   "metadata": {},
   "source": [
    "### Splitting Citra RGB"
   ]
  },
  {
   "cell_type": "code",
   "execution_count": 6,
   "metadata": {},
   "outputs": [],
   "source": [
    "\n",
    "b = citra[:,:,0]\n",
    "g = citra[:,:,1]\n",
    "r = citra[:,:,2]"
   ]
  },
  {
   "cell_type": "code",
   "execution_count": 7,
   "metadata": {},
   "outputs": [],
   "source": [
    "panjang = len(citra)\n",
    "lebar = len(citra[0])\n",
    "\n",
    "citra_gray = np.zeros((panjang,lebar))\n",
    "\n",
    "for i in range (panjang):\n",
    "    for j in range (lebar):\n",
    "        citra_gray[i,j] = 0.2989 * r[i,j] + 0.587 * g[i,j] + 0.1141 * b[i,j]\n",
    "        \n",
    "citra_gray = citra_gray.astype(np.uint8)\n",
    "\n",
    "cv2.imshow(\"citra grayscale\", citra_gray)\n",
    "cv2.waitKey()\n",
    "cv2.destroyAllWindows()"
   ]
  },
  {
   "cell_type": "code",
   "execution_count": 8,
   "metadata": {},
   "outputs": [
    {
     "name": "stdout",
     "output_type": "stream",
     "text": [
      "[[217 217 217 ...  56  60  68]\n",
      " [215 215 215 ...  40  43  51]\n",
      " [210 210 210 ...  40  43  51]\n",
      " ...\n",
      " [196 196 196 ... 139 142 144]\n",
      " [196 196 196 ... 139 142 144]\n",
      " [197 197 197 ... 142 144 146]]\n"
     ]
    }
   ],
   "source": [
    "\n",
    "print(citra_gray)"
   ]
  },
  {
   "cell_type": "markdown",
   "metadata": {},
   "source": [
    "### Grayscale to Binary"
   ]
  },
  {
   "cell_type": "code",
   "execution_count": 9,
   "metadata": {},
   "outputs": [],
   "source": [
    "panjang = len(citra)\n",
    "lebar = len(citra[0])\n",
    "\n",
    "ambang = 90\n",
    "\n",
    "citra_biner = np.zeros((panjang,lebar))\n",
    "\n",
    "for i in range (panjang):\n",
    "    for j in range (lebar):\n",
    "        if citra_gray [i,j] >= ambang:\n",
    "            citra_biner[i,j] = 1\n",
    "        else:\n",
    "            citra_biner[i,j] = 0\n",
    "\n",
    "cv2.imshow(\"citra binary\", citra_biner)\n",
    "cv2.waitKey()\n",
    "cv2.destroyAllWindows()"
   ]
  },
  {
   "cell_type": "code",
   "execution_count": 10,
   "metadata": {},
   "outputs": [
    {
     "name": "stdout",
     "output_type": "stream",
     "text": [
      "[[1. 1. 1. ... 0. 0. 0.]\n",
      " [1. 1. 1. ... 0. 0. 0.]\n",
      " [1. 1. 1. ... 0. 0. 0.]\n",
      " ...\n",
      " [1. 1. 1. ... 1. 1. 1.]\n",
      " [1. 1. 1. ... 1. 1. 1.]\n",
      " [1. 1. 1. ... 1. 1. 1.]]\n"
     ]
    }
   ],
   "source": [
    "\n",
    "print(citra_biner)"
   ]
  }
 ],
 "metadata": {
  "kernelspec": {
   "display_name": "Python 3",
   "language": "python",
   "name": "python3"
  },
  "language_info": {
   "codemirror_mode": {
    "name": "ipython",
    "version": 3
   },
   "file_extension": ".py",
   "mimetype": "text/x-python",
   "name": "python",
   "nbconvert_exporter": "python",
   "pygments_lexer": "ipython3",
   "version": "3.13.0rc3"
  }
 },
 "nbformat": 4,
 "nbformat_minor": 2
}
